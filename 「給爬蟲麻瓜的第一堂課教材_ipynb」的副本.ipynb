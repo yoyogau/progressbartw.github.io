{
  "nbformat": 4,
  "nbformat_minor": 0,
  "metadata": {
    "colab": {
      "name": "「給爬蟲麻瓜的第一堂課教材.ipynb」的副本",
      "provenance": [],
      "collapsed_sections": [],
      "include_colab_link": true
    },
    "language_info": {
      "codemirror_mode": {
        "name": "ipython",
        "version": 3
      },
      "file_extension": ".py",
      "mimetype": "text/x-python",
      "name": "python",
      "nbconvert_exporter": "python",
      "pygments_lexer": "ipython3",
      "version": "3.6.3"
    },
    "kernelspec": {
      "display_name": "Python 3",
      "language": "python",
      "name": "python3"
    }
  },
  "cells": [
    {
      "cell_type": "markdown",
      "metadata": {
        "id": "view-in-github",
        "colab_type": "text"
      },
      "source": [
        "<a href=\"https://colab.research.google.com/github/yoyogau/progressbartw.github.io/blob/master/%E3%80%8C%E7%B5%A6%E7%88%AC%E8%9F%B2%E9%BA%BB%E7%93%9C%E7%9A%84%E7%AC%AC%E4%B8%80%E5%A0%82%E8%AA%B2%E6%95%99%E6%9D%90_ipynb%E3%80%8D%E7%9A%84%E5%89%AF%E6%9C%AC.ipynb\" target=\"_parent\"><img src=\"https://colab.research.google.com/assets/colab-badge.svg\" alt=\"Open In Colab\"/></a>"
      ]
    },
    {
      "cell_type": "markdown",
      "metadata": {
        "id": "2qirI2GdBXve",
        "colab_type": "text"
      },
      "source": [
        "#注意事項： ↑↑↑ 記得先按下 Copy to drive 按鈕，複製一份教材到你自己的雲端硬碟哦"
      ]
    },
    {
      "cell_type": "markdown",
      "metadata": {
        "id": "Yk0bw6t5SfAy",
        "colab_type": "text"
      },
      "source": [
        "#課程大綱\n",
        "##瞭解 http 連線概念，學習使用 Chrome 開發者工具，檢視 html 網頁原始碼，以及瀏覽器訪問網頁的紀錄，來開發對應的爬蟲程式\n",
        "https://docs.google.com/presentation/d/139WHQCUXVeN5nXlapbuUtaDrW5vVIye-lHGgumqcGyg/edit?usp=sharing\n"
      ]
    },
    {
      "cell_type": "markdown",
      "metadata": {
        "id": "La8X4_rK1etl",
        "colab_type": "text"
      },
      "source": [
        "## Introduction of web crawler"
      ]
    },
    {
      "cell_type": "markdown",
      "metadata": {
        "id": "6HDjNk_HiFZ0",
        "colab_type": "text"
      },
      "source": [
        "### html 網頁 - 觀察連線方式"
      ]
    },
    {
      "cell_type": "code",
      "metadata": {
        "id": "gfjGYE4LQ5NZ",
        "colab_type": "code",
        "colab": {}
      },
      "source": [
        "url = \"https://news.pts.org.tw/article/485678\""
      ],
      "execution_count": 2,
      "outputs": []
    },
    {
      "cell_type": "markdown",
      "metadata": {
        "id": "NwpaL5NstJ-R",
        "colab_type": "text"
      },
      "source": [
        "### 最常使用的請求方式 - http GET method"
      ]
    },
    {
      "cell_type": "code",
      "metadata": {
        "id": "UCwvcVPxQpOf",
        "colab_type": "code",
        "colab": {}
      },
      "source": [
        "import requests"
      ],
      "execution_count": 11,
      "outputs": []
    },
    {
      "cell_type": "code",
      "metadata": {
        "id": "QvTvuPKPQ2L7",
        "colab_type": "code",
        "colab": {}
      },
      "source": [
        "res = requests.get(url)"
      ],
      "execution_count": 12,
      "outputs": []
    },
    {
      "cell_type": "code",
      "metadata": {
        "id": "0rpHm5Zsr8at",
        "colab_type": "code",
        "colab": {
          "base_uri": "https://localhost:8080/",
          "height": 34
        },
        "outputId": "d1d0b92e-0e8a-4696-fb85-71bcd86b3878"
      },
      "source": [
        "res.status_code"
      ],
      "execution_count": 8,
      "outputs": [
        {
          "output_type": "execute_result",
          "data": {
            "text/plain": [
              "200"
            ]
          },
          "metadata": {
            "tags": []
          },
          "execution_count": 8
        }
      ]
    },
    {
      "cell_type": "code",
      "metadata": {
        "id": "rlxzKHnCQ_UX",
        "colab_type": "code",
        "colab": {
          "base_uri": "https://localhost:8080/",
          "height": 120
        },
        "outputId": "8de1edcb-7b13-4574-e3c6-33159ef2f11c"
      },
      "source": [
        "res.text"
      ],
      "execution_count": 9,
      "outputs": [
        {
          "output_type": "execute_result",
          "data": {
            "application/vnd.google.colaboratory.intrinsic+json": {
              "type": "string"
            },
            "text/plain": [
              "'<!DOCTYPE html>\\n<html lang=\"zh-Hant\">\\n    <title>指考第2天3大主科登場 近4.3萬考生上陣 | 公視新聞網</title>\\n<!DOCTYPE html>\\n<html lang=\"zh-Hant\">\\n\\n<head>\\n  <meta charset=\"utf-8\">\\n  <meta http-equiv=\"X-UA-Compatible\" content=\"IE=edge\">\\n  <meta property=\"fb:pages\" content=\"335636328832\">\\n  <meta name=\"viewport\" content=\"width=device-width, initial-scale=1, maximum-scale=1, user-scalable=no\">\\n  <!-- Global site tag (gtag.js) - Google Analytics -->\\n    <script async src=\"https://www.googletagmanager.com/gtag/js?id=UA-4916790-28\"></script>\\n    <script>\\n      window.dataLayer = window.dataLayer || [];\\n      function gtag(){dataLayer.push(arguments);}\\n      gtag(\\'js\\', new Date());\\n\\n      gtag(\\'config\\', \\'UA-4916790-28\\');\\n    </script>\\n    <!-- Begin comScore Tag -->\\n    <script>\\n      var _comscore = _comscore || [];\\n      _comscore.push({ c1: \"2\", c2: \"26875971\" });\\n      (function() {\\n        var s = document.createElement(\"script\"), el = document.getElementsByTagName(\"script\")[0]; s.async = true;\\n        s.src = (document.location.protocol == \"https:\" ? \"https://sb\" : \"http://b\") + \".scorecardresearch.com/beacon.js\";\\n        el.parentNode.insertBefore(s, el);\\n      })();\\n    </script>\\n    <noscript>\\n      <img src=\"https://sb.scorecardresearch.com/p?c1=2&c2=26875971&cv=2.0&cj=1\" />\\n    </noscript>\\n\\n    <!-- Begin LnData Tag -->\\n    <script type=\"text/javascript\">\\n    var _smq = _smq || [];\\n\\n    _smq.push([\\'_setAccount\\', \\'42bcc0b\\', new Date()]);\\n    _smq.push([\\'_setDomainName\\', \\'pts.org.tw\\']);\\n    _smq.push([\\'pageview\\']);\\n\\n    (function() {\\n    var sm = document.createElement(\\'script\\'); sm.type = \\'text/javascript\\'; sm.async = true;\\n    sm.src = (\\'https:\\' == document.location.protocol ? \\'https://\\' : \\'http://\\') + \\'cdn.lndata.com/collect.js\\';\\n    var s = document.getElementsByTagName(\\'script\\')[0]; s.parentNode.insertBefore(sm, s);\\n    })();\\n    </script>\\n\\n    <!-- Begin QSearch Tag -->\\n    <script>(function(w,d,s,l,i){w[l]=w[l]||[];w[l].push({\\'gtm.start\\':\\n    new Date().getTime(),event:\\'gtm.js\\'});var f=d.getElementsByTagName(s)[0],\\n    j=d.createElement(s),dl=l!=\\'dataLayer\\'?\\'&l=\\'+l:\\'\\';j.async=true;j.src=\\n    \\'https://www.googletagmanager.com/gtm.js?id=\\'+i+dl;f.parentNode.insertBefore(j,f);\\n    })(window,document,\\'script\\',\\'dataLayer\\',\\'GTM-WDJNGG6\\');</script> \\n  <meta name=\"description\" content=\"\">\\n  <link rel=\"shortcut icon\" href=\"favicon.ico\">\\n \\n\\n    <link rel=\"amphtml\" href=\"https://amp.news.pts.org.tw/article/485678\">\\n    <link rel=\"canonical\" href=\"https://news.pts.org.tw/article/485678\">\\n    <meta property=\"fb:app_id\" content=\"466487386878484\"/>\\n    <meta property=\"og:site_name\" content=\"公視新聞網\"/>\\n    <meta property=\"og:url\" content=\"https://news.pts.org.tw/article/485678\"/>\\n    <meta property=\"og:type\" content=\"article\"/>\\n    <meta property=\"og:title\" content=\"指考第2天3大主科登場 近4.3萬考生上陣\"/>\\n    <meta property=\"og:image\" content=\"https://daf1ua3hmwh9p.cloudfront.net/news_images/485678/1593864118t.jpg\" />\\n    <meta property=\"og:description\" content=\"今天是大學指考第二天，國英數三大主科登場，4.3萬名考生一起上陣。數學乙觀念題居多，沒太多計算，但對跨考的自然組同學較有優勢；國文科，老師評析出的相當精彩多元，應該是近三年最難；而英文科考試時間...\"/>\\n    <meta name=\"description\" content=\"今天是大學指考第二天，國英數三大主科登場，4.3萬名考生一起上陣。數學乙觀念題居多，沒太多計算，但對跨考的自然組同學較有優勢；國文科，老師評析出的相當精彩多元，應該是近三年最難；而英文科考試時間...\" >\\n    <meta name=\"keywords\" content=\"指考第2天3大主科登場 近4.3萬考生上陣\" >\\n    <link rel=\"stylesheet\" href=\"https://news.pts.org.tw/_css/article.min.css\">\\n  <!--plugin-->\\n  <link href=\"https://news.pts.org.tw/_js/fonts/font-awesome/css/font-awesome.min.css\" rel=\"stylesheet\">\\n  \\n  <link href=\"https://news.pts.org.tw/_js/slick-1.6.0/slick.css\" rel=\"stylesheet\">\\n  <link href=\"https://news.pts.org.tw/_js/slick-1.6.0/slick-theme.css\" rel=\"stylesheet\">\\n  <link href=\"https://news.pts.org.tw/_css/search.css\" rel=\"stylesheet\">\\n  <link href=\"https://news.pts.org.tw/_js/pushy-master/css/pushy.css\" rel=\"stylesheet\">\\n  <link href=\"https://news.pts.org.tw/_css_plugin/bootstrap.min.css\" rel=\"stylesheet\">\\n  <link href=\"https://news.pts.org.tw/_css_plugin/jquery-ui.min.css\" rel=\"stylesheet\">\\n  <link href=\"https://news.pts.org.tw/_js/OwlCarousel2-master/owl.carousel.min.css\" rel=\"stylesheet\">\\n  <link href=\"https://news.pts.org.tw/_js/OwlCarousel2-master/owl.theme.green.min.css\" rel=\"stylesheet\">\\n  <!--style-->\\n  <link href=\"https://news.pts.org.tw/_css/clock.min.css\" type=\"text/css\" rel=\"stylesheet\">\\n  <link href=\"https://news.pts.org.tw/_css/original.css\" type=\"text/css\" rel=\"stylesheet\">\\n  <link href=\"https://news.pts.org.tw/_css/style.css?v=2\" type=\"text/css\" rel=\"stylesheet\">\\n  <link href=\"https://news.pts.org.tw/_css/rwd-style.css\" type=\"text/css\" rel=\"stylesheet\">\\n  <link href=\"https://news.pts.org.tw/_css/gsestyle.min.css\" type=\"text/css\" rel=\"stylesheet\">\\n  <link href=\"https://news.pts.org.tw/_css_plugin/taigi-woff.css\" type=\"text/css\" rel=\"stylesheet\">\\n  <style>\\n  @media (max-width:480px) {\\n    .sec02 {\\n      margin-bottom: 0px !important;\\n    }\\n  }\\n  </style>\\n</head>\\n\\n\\n<body class=\"newscont-page\">\\n<div id=\"fb-root\"></div>\\n<script>(function(d, s, id) {\\n  var js, fjs = d.getElementsByTagName(s)[0];\\n  if (d.getElementById(id)) return;\\n  js = d.createElement(s); js.id = id;\\n  js.src = \\'https://connect.facebook.net/zh_TW/sdk.js#xfbml=1&version=v2.12&appId=466487386878484&autoLogAppEvents=1\\';\\n  fjs.parentNode.insertBefore(js, fjs);\\n}(document, \\'script\\', \\'facebook-jssdk\\'));</script>\\n  <div class=\"main\">\\n    <header>\\n      <div class=\"main-nav\">\\n        <div class=\"header\">\\n          <div class=\"header_wrapper\">\\n            <div class=\"logo\">\\n              <a href=\"https://www.pts.org.tw/\"> <img src=\"https://news.pts.org.tw/images/logo.jpg\"></a>\\n            </div>\\n            <div class=\"main_menu \">\\n              <div class=\"top_main_menu\">\\n                <a class=\"top_menu_button programme_button\" href=\"http://web.pts.org.tw/php/programX/main.php\" target=\"_blank\">節目表</a>\\n                <a class=\"top_menu_button channel_button\" href=\"https://www.pts.org.tw/\" target=\"_blank\">公視</a>\\n                <a class=\"top_menu_button channel_button\" href=\"https://taigi.pts.org.tw/\" target=\"_blank\">台語台</a>\\n                <a class=\"top_menu_button channel_button\" href=\"http://pts_3.pts.org.tw/\" target=\"_blank\">公視3台</a>\\n                <form class=\"search-pts\">\\n                  <div id=\"cse-search-form\" style=\"width: 100%\"></div>\\n                  <script src=\"https://www.google.com/jsapi\" type=\"text/javascript\"></script>\\n                  <script type=\"text/javascript\">\\n                    google.load(\\'search\\', \\'1\\', { language: \\'zh-Hant\\', style: google.loader.themes.MINIMALIST });\\n                    google.setOnLoadCallback(function () {\\n                        var customSearchOptions = {};\\n                        var customSearchControl = new google.search.CustomSearchControl(\\'015042921252931929020:6zt_aijyxqo\\', customSearchOptions);\\n                        customSearchControl.setResultSetSize(google.search.Search.FILTERED_CSE_RESULTSET);\\n                        var options = new google.search.DrawOptions();\\n                        options.enableSearchboxOnly(\\'https://www.pts.org.tw/~search/\\', \\'q\\');\\n                        customSearchControl.draw(\\'cse-search-form\\', options);\\n                    }, true);\\n                    $( window ).on( \"load\", function() {\\n                        $(\\'#gsc-i-id2\\').removeAttr(\\'placeholder\\');\\n                        $(\\'#gsc-i-id2\\').css(\\'background\\', \\'none\\');\\n\\n                        $(\\'#gsc-i-id2\\').on(\\'blur\\', function() {\\n                            $(\\'#gsc-i-id2\\').css(\\'background\\', \\'none\\');\\n                        });\\n                    });\\n                  </script>\\n                </form><!--搜尋公視 end-->\\n                <div class=\"clearer\"></div>\\n              </div>\\n              <div class=\"bottom_main_menu\">\\n                <ul class=\"navigation-list\">\\n                  <li class=\"nav-item is-active dropdown\">\\n                    <a href=\"//news.pts.org.tw/\" style=\"background:url(https://news.pts.org.tw/images/mbg.gif) no-repeat center bottom; padding-bottom:10px;\">公視新聞網</a>\\n                    <ul class=\"dropdown-menu\">\\n                      <li class=\"category-item-yellow\">\\n                        <a href=\"https://news.pts.org.tw/\" class=\"yellow_link\">回首頁</a>\\n                      </li>\\n                      <li class=\"category-item-yellow\">\\n                        <a href=\"https://news.pts.org.tw/dailynews.php\" class=\"yellow_link\">即時新聞</a>\\n                      </li>\\n   \\n                      <li class=\"category-item\"><a href=\"https://news.pts.org.tw/category/2\">政經</a></li>\\n   \\n                      <li class=\"category-item\"><a href=\"https://news.pts.org.tw/category/3\">環境生態</a></li>\\n   \\n                      <li class=\"category-item\"><a href=\"https://news.pts.org.tw/category/4\">全球</a></li>\\n   \\n                      <li class=\"category-item\"><a href=\"https://news.pts.org.tw/category/5\">生活綜合</a></li>\\n   \\n                      <li class=\"category-item\"><a href=\"https://news.pts.org.tw/category/6\">文教科技</a></li>\\n   \\n                      <li class=\"category-item\"><a href=\"https://news.pts.org.tw/category/7\">社會</a></li>\\n   \\n                      <li class=\"category-item\"><a href=\"https://news.pts.org.tw/category/8\">Foreign</a></li>\\n                        \\n                      <li class=\"category-item-yellow\">\\n                        <a href=\"https://news.pts.org.tw/curations\" class=\"yellow_link\">深度報導</a>\\n                      </li>\\n                      <li class=\"menu-search2\">\\n                        <a href=\"https://news.pts.org.tw/categorys\" style=\"color:#dddddd\">+ 更多分類 </a>\\n                      </li>\\n                      <li class=\"menu-search\"> <a href=\"javascript:void(0)\" data-toggle=\"modal\" data-target=\"#search\" onclick=\"showsearch();\">\\n                        <img style=\"width:100%\" src=\"https://news.pts.org.tw/images/search_button_white.jpg\" /></a>\\n                      </li>\\n                    </ul>\\n                  </li>\\n                  <li class=\"nav-item\"><a href=\"//www.ptsplus.tv/\" target=\"_blank\">公視+</a></li>\\n                  <li class=\"nav-item\"><a href=\"https://shop.pts.org.tw/\" target=\"_blank\">網路商城</a></li>\\n                  <li class=\"nav-item\"><a href=\"https://about.pts.org.tw/service/followpts.html\" target=\"_blank\">社群/APP</a></li>\\n                  <li class=\"nav-item\"><a href=\"https://about.pts.org.tw/pr/latestnews/\" target=\"_blank\">最新消息</a></li>\\n                  <li class=\"nav-item\"><a href=\"https://about.pts.org.tw/cp/drama/\" target=\"_blank\">節目徵選</a></li>\\n                  <li class=\"nav-item\"><a href=\"https://info.pts.org.tw/\" target=\"_blank\">關於公視</a></li>\\n                  <li class=\"nav-item\"><a href=\"https://friends.pts.org.tw/index.php\" target=\"_blank\">贊助公視</a></li>\\n                  <li class=\"nav-item\"><a href=\"https://friends.pts.org.tw/business.php\" target=\"_blank\">企業贊助</a></li>\\n                  <li class=\"nav-item\"><a href=\"http://eng.pts.org.tw/\" target=\"_blank\">English</a></li>\\n                </ul>\\n                <div style=\"clear:both;\"></div>\\n              </div>\\n            </div>\\n            <div class=\"clock\">\\n              <div class=\"hours-container\">\\n                <div class=\"hours\"></div>\\n              </div>\\n              <div class=\"minutes-container\">\\n                <div class=\"minutes\"></div>\\n              </div>\\n            </div><!--#clock-->  \\n          </div>\\n        </div>\\n        <div class=\"sub_menu_panel\">\\n          <div class=\"sub_menu_wrapper\">\\n          </div>\\n        </div>\\n        <div style=\"width:1300px; left:50%; margin-left:-630px; position:relative; text-align:right; height:34px; display:none;\" id=\"searhptsnews\"> \\n          <form class=\"search-news\" action=\"https://news.pts.org.tw/search/\" >\\n            <div id=\"cse-news-search-form\" style=\"width: 100%\">\\n<form class=\"gsc-search-box\" action=\"https://news.pts.org.tw/search/\" accept-charset=\"utf-8\" >\\n    <table cellspacing=\"0\" cellpadding=\"0\" class=\"gsc-search-box\">\\n        <tbody>\\n            <tr>\\n                <td class=\"gsc-input\">\\n                    <input autocomplete=\"off\" type=\"text\" size=\"10\" class=\" gsc-input \" name=\"q\"\\n                        title=\"搜尋\" id=\"gsc-i-id2\" dir=\"ltr\" spellcheck=\"false\" placeholder=\"自訂搜尋\"\\n                        style=\"outline: none; box-shadow: none; border: none;  background: url(&quot;https://www.google.com/cse/static/images/1x/googlelogo_lightgrey_46x16dp.png&quot;) left center no-repeat rgb(255, 255, 255);\">\\n                </td>\\n                <td class=\"gsc-search-button\"><input type=\"button\" value=\"搜尋\" class=\"gsc-search-button\" onclick=\"toPTSnewsSearch2()\"></td>\\n            </tr>\\n        </tbody>\\n    </table>\\n</form>\\n\\n<script>\\n    function toPTSnewsSearch2()\\n    {\\n        let searchValue = encodeURI(document.querySelector(\\'#gsc-i-id2\\').value);\\nconsole.log(`https://news.pts.org.tw/search/?q=${searchValue}`);\\n        window.location.href = `https://news.pts.org.tw/search/?q=${searchValue}`\\n    }\\n</script>\\n\\t    </div>\\n            <script src=\"//www.google.com/jsapi\" type=\"text/javascript\"></script>\\n            <script type=\"text/javascript\">\\n/*\\n              google.load(\\'search\\', \\'1\\', { language: \\'zh-Hant\\', style: google.loader.themes.MINIMALIST });\\n              google.setOnLoadCallback(function () {\\n                  var customSearchOptions = {enableAutoComplete:true};\\n                  var customSearchControl = new google.search.CustomSearchControl(\\'015042921252931929020:6zt_aijyxqo\\', customSearchOptions);\\n                  customSearchControl.setResultSetSize(google.search.Search.FILTERED_CSE_RESULTSET);\\n                  var options = new google.search.DrawOptions();\\n                  options.enableSearchboxOnly(\\'https://news.pts.org.tw/search/\\', \\'q\\');\\n                  customSearchControl.draw(\\'cse-news-search-form\\', options);\\n              }, true);\\n*/\\n            </script>\\n          </form>          \\n        </div>\\n      </div>\\n      <!-- #main-nav -->\\n      <div class=\"mobile-menu\">\\n        <div class=\"top-header\">\\n          <div class=\"side_menu_icon menu-btn moblie-menu-btn \">\\n            <img src=\"https://news.pts.org.tw/images/ic_menu.svg\">\\n          </div>\\n          <div class=\"logo\">\\n            <a href=\"index.html\"><img src=\"https://news.pts.org.tw/images/logo-news-mobile.svg\"></a>\\n          </div>\\n          <div class=\"search_form\">\\n            <a href=\"javascript:void(0)\" onclick=\"showsearch2();\"><img src=\"https://news.pts.org.tw/images/comon/search.jpg\"></a>\\n          </div>\\n        </div>\\n        <!--begin add @ 20180705-->\\n        <div style=\"width:100%;  position:relative; text-align:right; height:30px; display:none;\" id=\"searhptsnews2\">\\n          <form class=\"search-news\" action=\"https://news.pts.org.tw/search/\" >\\n            <div id=\"cse-news-search-form2\" style=\"width: 100%\">\\n<form class=\"gsc-search-box\" accept-charset=\"utf-8\" action=\"https://news.pts.org.tw/search/\">\\n    <table cellspacing=\"0\" cellpadding=\"0\" class=\"gsc-search-box\">\\n        <tbody>\\n            <tr>\\n                <td class=\"gsc-input\">\\n                    <input autocomplete=\"off\" type=\"text\" size=\"10\" class=\" gsc-input \" name=\"q\"\\n                        title=\"搜尋\" id=\"gsc-i-id3\" dir=\"ltr\" spellcheck=\"false\" placeholder=\"自訂搜尋\"\\n                        style=\"outline: none; box-shadow: none; border: none; background: url(&quot;https://www.google.com/cse/static/images/1x/googlelogo_lightgrey_46x16dp.png&quot;) left center no-repeat rgb(255, 255, 255);\">\\n                </td>\\n                <td class=\"gsc-search-button\"><input type=\"button\" value=\"搜尋\" class=\"gsc-search-button\" onclick=\"toPTSnewsSearch3()\"></td>\\n            </tr>\\n        </tbody>\\n    </table>\\n</form>\\n\\n<script>\\n    function toPTSnewsSearch3()\\n    {\\n        let searchValue = encodeURI(document.querySelector(\\'#gsc-i-id3\\').value);\\n\\n        window.location.href = `https://news.pts.org.tw/search/?q=${searchValue}`\\n    }\\n</script>\\n\\t    </div>\\n            <script src=\"//www.google.com/jsapi\" type=\"text/javascript\"></script>\\n            <script type=\"text/javascript\">\\n/*\\n              google.load(\\'search\\', \\'1\\', { language: \\'zh-Hant\\', style: google.loader.themes.MINIMALIST });\\n              google.setOnLoadCallback(function () {\\n                var customSearchOptions = { enableAutoComplete: true };\\n                var customSearchControl = new google.search.CustomSearchControl(\\'015042921252931929020:6zt_aijyxqo\\', customSearchOptions);\\n                customSearchControl.setResultSetSize(google.search.Search.FILTERED_CSE_RESULTSET);\\n                var options = new google.search.DrawOptions();\\n                options.enableSearchboxOnly(\\'https://news.pts.org.tw/search/\\', \\'q\\');\\n                customSearchControl.draw(\\'cse-news-search-form2\\', options);\\n              }, true);\\n*/\\n            </script>\\n          </form>\\n        </div>\\n        <!--end add @ 20180705-->\\n        <div class=\"buttom-header\">\\n          <ul class=\"submenu-list\">\\n            <li>\\n              <a href=\"https://news.pts.org.tw/dailynews.php\" class=\"yellow_link\">即時新聞</a>\\n            </li>\\n            <li>\\n              <a href=\"https://news.pts.org.tw/categorys\" class=\"\">新聞分類</a>\\n            </li>\\n            <li>\\n              <a href=\"https://news.pts.org.tw/curations\" class=\"yellow_link\">深度報導</a>\\n            </li>\\n          </ul>\\n        </div>\\n        <nav class=\"pushy pushy-left\" data-focus=\"#first-link\">\\n          <div class=\"pushy-content\">\\n            <ul class=\"channel-list\">\\n              <li class=\"channel-item is-active\"><a href=\"https://www.pts.org.tw/\" target=\"_blank\">公視</a></li>\\n              <li class=\"channel-item\"><a href=\"https://taigi.pts.org.tw/\" target=\"_blank\">台語台</a></li>\\n              <li class=\"channel-item\"><a href=\"http://pts_3.pts.org.tw/\" target=\"_blank\">公視3台</a></li>\\n            </ul>\\n            <ul>\\n\\n              <li class=\"pushy-link active\" style=\"border-bottom:1px solid #FFF\"><a href=\"//news.pts.org.tw/\">公視新聞網</a></li>\\n              <li class=\"pushy-link\" style=\"border-bottom:1px solid #FFF\"><a href=\"//www.ptsplus.tv/\" target=\"_blank\">公視+</a></li>\\n              <li class=\"pushy-link\" style=\"border-bottom:1px solid #FFF\"><a href=\"https://shop.pts.org.tw/\" target=\"_blank\">網路商城</a></li>\\n              <li class=\"pushy-link\" style=\"border-bottom:1px solid #FFF\"><a href=\"https://about.pts.org.tw/service/followpts.html\" target=\"_blank\">社群/APP</a></li>\\n              <li class=\"pushy-link\" style=\"border-bottom:1px solid #FFF\"><a href=\"https://about.pts.org.tw/pr/latestnews/\" target=\"_blank\">最新消息</a></li>\\n              <li class=\"pushy-link\" style=\"border-bottom:1px solid #FFF\"><a href=\"https://info.pts.org.tw/\" target=\"_blank\">關於公視</a></li>\\n              <li class=\"pushy-link\" style=\"border-bottom:1px solid #FFF\"><a href=\"https://friends.pts.org.tw/index.php\" target=\"_blank\">贊助公視</a></li>\\n              <li class=\"pushy-link\" style=\"border-bottom:1px solid #FFF\"><a href=\"https://friends.pts.org.tw/business.php\" target=\"_blank\">企業贊助</a></li>\\n              <li class=\"pushy-link\" style=\"border-bottom:1px solid #FFF\"><a href=\"http://eng.pts.org.tw/\" target=\"_blank\">英文網 English</a></li> \\n            </ul>\\n          </div>\\n        </nav>\\n      </div>\\n      <!-- #mobile-menu-->\\n      <!-- Site Overlay -->\\n      <div class=\"site-overlay\"></div>\\n    </header>\\n    <script>\\n    function showsearch() {\\n\\n      if (document.getElementById(\\'searhptsnews\\').style.display == \\'none\\') {\\n        document.getElementById(\\'searhptsnews\\').style.display = \\'block\\';\\n      } else {\\n        document.getElementById(\\'searhptsnews\\').style.display = \\'none\\';\\n      }\\n    }\\n      function showsearch2() {\\n\\n        if (document.getElementById(\\'searhptsnews2\\').style.display == \\'none\\') {\\n          document.getElementById(\\'searhptsnews2\\').style.display = \\'block\\';\\n        } else {\\n          document.getElementById(\\'searhptsnews2\\').style.display = \\'none\\';\\n        }\\n      }\\n    </script>\\n\\n  </div><!-- #main -->\\n  <section class=\"wrapper wrapper2\">\\n    <div class=\"sec01 clearfix\">\\n      <div class=\"row\">\\n        <div class=\"col-md-9 col-sm-12 col-xs-12  \">\\n          <h1 class=\"article-title\" style=\"font-size: 36px\">指考第2天3大主科登場 近4.3萬考生上陣</h1>\\n          <div class=\"mid-news\">\\n            <div class=\"m-left-side m-left-side2\" style=\"\">\\n              <div class=\"maintype-wapper  hidden-sm hidden-xs\">\\n                <h2>2020年7月4日</h2>\\n                <div class=\"subtype-sort\">林曉慧 郭俊麟<br> 台北報導</div>\\n              </div>\\n              <div class=\"social-icon hidden-sm hidden-xs\" style=\"margin-bottom: 15px;\">\\n                <!-- AddToAny BEGIN -->\\n                <div class=\"a2a_kit a2a_kit_size_32 a2a_default_style\">\\n                  <div class=\"icon icon01\">\\n                    <a class=\"a2a_button_facebook\"><img src=\"https://news.pts.org.tw/images/newscont/newscont_share_bt01_o.png\"></a>\\n                  </div>\\n                  <div class=\"icon icon02\">\\n                    <a class=\"a2a_button_twitter\"> <img src=\"https://news.pts.org.tw/images/newscont/newscont_share_bt02.png\"></a>\\n                  </div>\\n                  <div class=\"icon icon03\">\\n                    <a class=\"a2a_button_google_plus\"> <img src=\"https://news.pts.org.tw/images/newscont/newscont_share_bt03.png\"></a>\\n                  </div>\\n                  <div class=\"icon icon04\">\\n                    <a class=\"a2a_button_email\"> <img src=\"https://news.pts.org.tw/images/newscont/newscont_share_bt04.png\"></a>\\n                  </div>\\n                  <div class=\"icon icon05\">\\n                    <a class=\"a2a_button_pinterest\"> <img src=\"https://news.pts.org.tw/images/newscont/newscont_share_bt05.png\"></a>\\n                  </div>\\n                  <div class=\"icon icon06\">\\n                    <a class=\"a2a_button_linkedin\"> <img src=\"https://news.pts.org.tw/images/newscont/newscont_share_bt06.png\"></a>\\n                  </div>\\n                </div>\\n                <!-- AddToAny END -->\\n              </div>\\n              <h2 class=\"title hidden-xs\">\\n                <span style=\"font-size: 21px;letter-spacing: 0;font-weight: bold;\">總覽</span>\\n              </h2>\\n              <div class=\"hidden-sm hidden-xs\"> \\n                <div class=\"news-right\">   \\n                      <div class=\"news-right-list\">\\n                    <a href=\"https://news.pts.org.tw/article/488644\">教育部：學生違反學術倫理 教授應負責</a>\\n                  </div>\\n                      <div class=\"news-right-list\">\\n                    <a href=\"https://news.pts.org.tw/article/488628\">文化部委託公視設國際影音平台 引發爭議</a>\\n                  </div>\\n                      <div class=\"news-right-list\">\\n                    <a href=\"https://news.pts.org.tw/article/488558\">學位撤銷近五成因論文抄襲 在職專班佔一半</a>\\n                  </div>\\n                      <div class=\"news-right-list\">\\n                    <a href=\"https://news.pts.org.tw/article/488501\">3高中生計畫走200公里 重現賴和文學返鄉路</a>\\n                  </div>\\n                      <div class=\"news-right-list\">\\n                    <a href=\"https://news.pts.org.tw/article/488500\">填志願避免選錯系 專家：最想讀的排前面</a>\\n                  </div>\\n                    </div>\\n              </div>\\n            </div>\\n            <div class=\"m-right-side m-right-side2\">\\n              <div class=\"newscont-text\">\\n                           <div class=\"article-video\">\\n                  <img class=\"placehold\" src=\"https://news.pts.org.tw/images/placehold.png\">\\n                  <iframe width=\"560\" height=\"315\" src=\"https://www.youtube.com/embed/sCiWKET15ts\" frameborder=\"0\" allowfullscreen></iframe>\\n                </div>\\n                           <div class=\"maintype-wapper  hidden-lg hidden-md\">\\n                  <h2>2020年7月4日</h2>\\n                  <div class=\"subtype-sort\">林曉慧 郭俊麟   台北報導</div>\\n                </div>\\n                <div class=\"social-icon hidden-lg hidden-md\">\\n                  <!-- AddToAny BEGIN -->\\n                  <div class=\"a2a_kit a2a_kit_size_32 a2a_default_style\">\\n                    <div class=\"icon icon01\">\\n                      <a class=\"a2a_button_facebook\"><img src=\"https://news.pts.org.tw/images/newscont/newscont_share_bt01_o.png\"></a>\\n                    </div>\\n                    <div class=\"icon icon02\">\\n                      <a class=\"a2a_button_twitter\"> <img src=\"https://news.pts.org.tw/images/newscont/newscont_share_bt02.png\"></a>\\n                    </div>\\n                    <div class=\"icon icon03\">\\n                      <a class=\"a2a_button_google_plus\"> <img src=\"https://news.pts.org.tw/images/newscont/newscont_share_bt03.png\"></a>\\n                    </div>\\n                    <div class=\"icon icon04\">\\n                      <a class=\"a2a_button_email\"> <img src=\"https://news.pts.org.tw/images/newscont/newscont_share_bt04.png\"></a>\\n                    </div>\\n                    <div class=\"icon icon05\">\\n                      <a class=\"a2a_button_pinterest\"> <img src=\"https://news.pts.org.tw/images/newscont/newscont_share_bt05.png\"></a>\\n                    </div>\\n                    <div class=\"icon icon06\">\\n                      <a class=\"a2a_button_linkedin\"> <img src=\"https://news.pts.org.tw/images/newscont/newscont_share_bt06.png\"></a>\\n                    </div>\\n                  </div>\\n                  <!-- AddToAny END -->\\n                </div>\\n                <div class=\"article_content\">\\n                  今天是大學指考第二天，國英數三大主科登場，4.3萬名考生一起上陣。數學乙觀念題居多，沒太多計算，但對跨考的自然組同學較有優勢；國文科，老師評析出的相當精彩多元，應該是近三年最難；而英文科考試時間80分鐘，文字量大，又要寫作文，有考生反映寫得很趕。<br><br>\\n大學指考第二天，自然組、社會組近4.3萬名考生齊上陣，要戴口罩、要確認身分、也要量體溫，一早考場幾度出現人流。<br><br>\\n第一堂數學乙，有遊戲考機率、畢旅規畫看排列組合、還有傳染病考指數與對數，強調概念運用，計算量不大。高中老師評析，跨考的自然組考生較有優勢。<br><br>\\n「概念有到的話，其實解題應該是沒什麼問題。」考生說道。<br><br>\\n結合時事與生活應用的素養題是趨勢，今年國文更明顯，用朱熹分析疫疾文章，呼應今年疫情，還有老人照護時事，哲學、翻譯跨領域的素材，強調思辯，高中老師和補教界大讚出的精彩，卻也認為應是近三年最難。<br><br>\\n考生認為，「很多字，蠻痛苦的，寫到中間的時候比較痛苦。」「國文好複雜哦，怎麼那麼長，（敍述都太長）就很煩躁啊。」<br><br>\\n補教國文老師楊墨表示，「我們建議以後的學生，先看選項，然後選項的問答懂了以後，再去看看文章內容做判讀工作，會比較好一點。」<br><br>\\n英文科同樣取材多元，美國教改、紐西蘭原住民，文字量大，加上作文要討論校園安全，好幾位考生反映，80分鐘考試時間不太夠，高中老師認為成績雙峰恐更明顯。<br><br>\\n「有一點點寫不完，因為就是加了作文，然後跟學測不一樣，因為它變成80分鐘，所以有點趕。」「閱讀測驗就只有一題字比較少，其他都很多。對啊，就看得很痛苦。」考生說。<br><br>\\n指考第二天，沒傳出重大違規。有三名考生因多次量體溫超標，被移往防疫試場，兩天下來累計啟用五間防疫試場。大考中心表示，就算這些考生指考第三天體溫正常，還是得在防疫試場考試。<br><br><br>\\n\\xa0\\n                      </div>\\n                <div id=\"_popIn_recommend_new\"></div>\\n                <script type=\"text/javascript\">\\n                  !function(){var e=document.createElement(\"script\");e.type=\"text/javascript\",e.charset=\"utf-8\",e.async=!0,e.src=window.location.protocol+\"//api.popin.cc/searchbox/pts_news.js\";var t=document.getElementsByTagName(\"script\")[0];t.parentNode.insertBefore(e,t)}();\\n                </script>\\n                <!--FB 留言-->\\n                <div class=\\'fb-responsive\\'>\\n                  <div class=\"fb-comments\" data-href=\"https://news.pts.org.tw/article/485678\" data-width=\"100%\" data-numposts=\"5\"></div>\\n                </div>\\n              </div> \\n              <div class=\"readmore align-center\">\\n                <a href=\"https://news.pts.org.tw/category/6\">回上一層</a>\\n              </div>\\n            </div>\\n          </div>\\n          <!--mid-news-->\\n        </div>\\n        <div class=\"col-md-3 col-sm-12 col-xs-12\">\\n          <div class=\"hidden-lg hidden-md\">\\n            <div class=\"right-item\" style=\"margin-bottom: 30px;\">\\n              <h2 class=\"title\"><span>相關新聞</span></h2>\\n              <div class=\"news-right\">\\n                    <div class=\"news-right-list\">\\n                  <a href=\"https://news.pts.org.tw/article/488644\">教育部：學生違反學術倫理 教授應負責</a>\\n                </div>\\n                    <div class=\"news-right-list\">\\n                  <a href=\"https://news.pts.org.tw/article/488628\">文化部委託公視設國際影音平台 引發爭議</a>\\n                </div>\\n                    <div class=\"news-right-list\">\\n                  <a href=\"https://news.pts.org.tw/article/488558\">學位撤銷近五成因論文抄襲 在職專班佔一半</a>\\n                </div>\\n                    <div class=\"news-right-list\">\\n                  <a href=\"https://news.pts.org.tw/article/488501\">3高中生計畫走200公里 重現賴和文學返鄉路</a>\\n                </div>\\n                    <div class=\"news-right-list\">\\n                  <a href=\"https://news.pts.org.tw/article/488500\">填志願避免選錯系 專家：最想讀的排前面</a>\\n                </div>\\n                  </div>\\n            </div>\\n          </div>\\n          <div class=\"right-item\" style=\"margin-bottom: 30px;\">\\n            <h2 class=\"title\"><span>推薦影音</span></h2>\\n            <div class=\"news-right-side vedio-side\">\\n   \\n              <div class=\"news-r-item\">\\n                <div class=\"img img-fill fill img-opacity\" style=\"\">\\n                  <a href=\"https://news.pts.org.tw/article/488659\">\\n                    <img src=\"https://img.youtube.com/vi/iqJoMewlDVY/mqdefault.jpg\">\\n                  </a>\\n                </div>\\n                <div class=\"news-r-text\">\\n                  <div class=\"text-title  text-title2\" style=\"margin-bottom: 10px;max-height: 47px;\">\\n                    <a href=\"https://news.pts.org.tw/article/488659\">虐待獼猴採椰子 泰國否認動保團體指控</a>\\n                  </div>\\n                </div>\\n              </div>\\n   \\n              <div class=\"news-r-item\">\\n                <div class=\"img img-fill fill img-opacity\" style=\"\">\\n                  <a href=\"https://news.pts.org.tw/article/488658\">\\n                    <img src=\"https://img.youtube.com/vi/NDmaTFTkv9o/mqdefault.jpg\">\\n                  </a>\\n                </div>\\n                <div class=\"news-r-text\">\\n                  <div class=\"text-title  text-title2\" style=\"margin-bottom: 10px;max-height: 47px;\">\\n                    <a href=\"https://news.pts.org.tw/article/488658\">聖索菲亞明星貓 名氣響亮人氣夯</a>\\n                  </div>\\n                </div>\\n              </div>\\n   \\n              <div class=\"news-r-item\">\\n                <div class=\"img img-fill fill img-opacity\" style=\"\">\\n                  <a href=\"https://news.pts.org.tw/article/488660\">\\n                    <img src=\"https://img.youtube.com/vi/P56cJyVO9hs/mqdefault.jpg\">\\n                  </a>\\n                </div>\\n                <div class=\"news-r-text\">\\n                  <div class=\"text-title  text-title2\" style=\"margin-bottom: 10px;max-height: 47px;\">\\n                    <a href=\"https://news.pts.org.tw/article/488660\">海水侵蝕掏空地基 海景第一排美夢變惡夢</a>\\n                  </div>\\n                </div>\\n              </div>\\n   \\n              <div class=\"news-r-item\">\\n                <div class=\"img img-fill fill img-opacity\" style=\"\">\\n                  <a href=\"https://news.pts.org.tw/article/488654\">\\n                    <img src=\"https://img.youtube.com/vi/GZEeDCmW0zg/mqdefault.jpg\">\\n                  </a>\\n                </div>\\n                <div class=\"news-r-text\">\\n                  <div class=\"text-title  text-title2\" style=\"margin-bottom: 10px;max-height: 47px;\">\\n                    <a href=\"https://news.pts.org.tw/article/488654\">31.2億威力彩頭獎2注 獎落台北、南投</a>\\n                  </div>\\n                </div>\\n              </div>\\n   \\n              <div class=\"news-r-item\">\\n                <div class=\"img img-fill fill img-opacity\" style=\"\">\\n                  <a href=\"https://news.pts.org.tw/article/488643\">\\n                    <img src=\"https://img.youtube.com/vi/R6XRwQNsq64/mqdefault.jpg\">\\n                  </a>\\n                </div>\\n                <div class=\"news-r-text\">\\n                  <div class=\"text-title  text-title2\" style=\"margin-bottom: 10px;max-height: 47px;\">\\n                    <a href=\"https://news.pts.org.tw/article/488643\">公視董事會追認國際影音平台 3高層請辭</a>\\n                  </div>\\n                </div>\\n              </div>\\n  \\n            </div>\\n          </div>          \\n          <div class=\"right-item\">\\n            <!--專題精選-->\\n            <h2 class=\"title\"><span>精選專題</span></h2>\\n            <div class=\"news-right-side\">\\n   \\n              <div class=\" news-list\">\\n                <div class=\"img img-fill fill imgzoom\">\\n                  <a href=\"https://news.pts.org.tw/article/487300\">\\n                        <img src=\"https://news.pts.org.tw/news_images/487300/1594894452k.jpg\">\\n                      </a>\\n                </div>\\n                <div class=\"new-wrap bd-box\">\\n                  <div class=\" text-title text-title2\" style=\"height:20px;margin-top:15px;\">\\n                    <a href=\"https://news.pts.org.tw/article/487300\">石虎保育》兩縣市通過自治條例 石虎保育現曙光</a>\\n                  </div>\\n                  <div class=\"sweet-info flex-center\" style=\"margin-left:0px;\">\\n                    <i class=\"fa fa-clock-o\" aria-hidden=\"true\" style=\"margin-left:0px;\"></i> <span>2020年7月16日</span>\\n                  </div>\\n                </div>\\n              </div>\\n   \\n              <div class=\" news-list\">\\n                <div class=\"img img-fill fill imgzoom\">\\n                  <a href=\"https://news.pts.org.tw/article/487299\">\\n                        <img src=\"https://news.pts.org.tw/news_images/487299/1594893263c.jpg\">\\n                      </a>\\n                </div>\\n                <div class=\"new-wrap bd-box\">\\n                  <div class=\" text-title text-title2\" style=\"height:20px;margin-top:15px;\">\\n                    <a href=\"https://news.pts.org.tw/article/487299\">石虎保育》給石虎一條生路 三義外環道喊卡</a>\\n                  </div>\\n                  <div class=\"sweet-info flex-center\" style=\"margin-left:0px;\">\\n                    <i class=\"fa fa-clock-o\" aria-hidden=\"true\" style=\"margin-left:0px;\"></i> <span>2020年7月16日</span>\\n                  </div>\\n                </div>\\n              </div>\\n     \\n            </div>\\n            <!--/.news-right-side-->\\n          </div>  \\n        </div>\\n      </div>\\n      <!--/.row-->\\n    </div>\\n    <!--/.sec01-->\\n  </section>\\n  </div>\\n  <!--wapper-->\\n  <footer>\\n    <div class=\"footer\">\\n      <div class=\"footer_wrapper\">\\n        <div class=\"footer-nav-group\">\\n          <div class=\"footer-nav-item footer-nav-same\">\\n            <div class=\"footer-nav-title\">公廣集團</div>\\n            <ul class=\"footer-list\">\\n                <li><a href=\"http://www.pts.org.tw/\" target=\"_blank\">公共電視</a></li>\\n                <li><a href=\"https://eng.pts.org.tw/\" target=\"_blank\">PTS TW (English)</a></li>\\n                <li><a href=\"https://taigi.pts.org.tw/\" target=\"_blank\">公視台語台</a></li>\\n                <li><a href=\"http://www.cts.com.tw/\" target=\"_blank\">中華電視公司</a></li>\\n                <li><a href=\"http://www.hakkatv.org.tw/\" target=\"_blank\">客家電視台</a></li>\\n            </ul>\\n          </div>\\n          <div class=\"footer-nav-item footer-nav-same\">\\n              <div class=\"footer-nav-title\">主題網站</div>\\n              <ul class=\"footer-list\">\\n                <li><a href=\"https://news.pts.org.tw\" target=\"_blank\">公視新聞網</a></li>\\n                <li><a href=\"https://www.ptsplus.tv/\" target=\"_blank\">公視+</a></li>\\n                <li><a href=\"https://newslab.pts.org.tw/\" target=\"_blank\">公視P#新聞實驗室</a></li>\\n                <li><a href=\"https://www.peopo.org/\" target=\"_blank\">PeoPo 公民新聞</a></li>\\n                <li><a href=\"https://4k.pts.org.tw/\" target=\"_blank\">公視4K網站</a></li>\\n                <li><a href=\"http://ptseducation.blogspot.tw/\" target=\"_blank\">教育資源網</a></li>\\n                <li><a href=\"https://rnd.pts.org.tw/\" target=\"_blank\">岩花館</a></li>\\n                <li><a href=\"https://www.parliamentarytv.org.tw/\" target=\"_blank\">國會頻道轉播</a></li>\\n              </ul>\\n          </div>\\n          <div class=\"footer-nav-item\">\\n              <div class=\"footer-nav-title\">公視服務</div>\\n              <ul class=\"footer-list\">\\n                <li><a href=\"https://info.pts.org.tw/open.html\">公開資訊</a></li>\\n                <li><a href=\"https://info.pts.org.tw/intro/howsee.html\">如何收看</a></li>\\n                <li><a href=\"https://www.pts.org.tw/visitpts/\">參觀公視</a></li>\\n                <li><a href=\"https://www.pts.org.tw/student/\">公視實習</a></li>\\n                <li><a href=\"https://info.pts.org.tw/service/rent.html\">租賃服務</a></li>\\n                <li><a href=\"https://about.pts.org.tw/pr/career/\">公視徵才</a></li>\\n                <li><a href=\"https://about.pts.org.tw/pr/tender/\">公開招標</a></li>\\n                <li><a href=\"http://web.pts.org.tw/~web01/PTS/welfare.htm\">商品展示攤位申請</a></li>\\n                <li><a href=\"http://web.pts.org.tw/~web01/e_torakou/index.htm\">道具服裝景片系統</a></li>\\n                <li><a href=\"https://npo.pts.org.tw/\">公益網</a></li>\\n              </ul>\\n          </div>\\n          <div class=\"footer-nav-item\">\\n              <div class=\"footer-nav-title\">觀眾服務</div>\\n              <ul class=\"footer-list\">\\n                <li><a href=\"http://web.pts.org.tw/php/mail/mail.php?TV=PTS\">線上客服</a> </li>\\n                <li><a href=\"http://web.pts.org.tw/php/programX/main.php\">節目表</a></li>\\n                <li><a href=\"https://about.pts.org.tw/appeal/pts/\">節目申訴</a></li>\\n                <li><a href=\"https://about.pts.org.tw/appeal/report/\">受理檢舉</a></li>\\n                <li><a href=\"http://web.pts.org.tw/php/ecard/main.php\">卡片服務</a></li>\\n                <li><a href=\"https://about.pts.org.tw/service/followpts.html\">社群/APP</a></li>\\n                <li><a href=\"https://about.pts.org.tw/rss/index.html\">RSS</a></li>\\n                <li><a href=\"https://about.pts.org.tw/service/terms.html\">網站服務條款</a></li>\\n                <li><a href=\"https://www.pts.org.tw/ptsfamily/\">公視各台頻道表</a></li>\\n                <li><a href=\"https://www.youtube.com/channel/UCXgIO9jJVsX5_2ideiSkfvA\" target=\"_blank\">公視直播</a></li> \\n                <li><a href=\"https://about.pts.org.tw/pr/station/\">收視不良公告</a></li>       \\n              </ul>\\n          </div>\\n          <div class=\"footer-nav-item footer-nav-item-last\">\\n            <div class=\"footer-nav-title\">商品與贊助</div>\\n            <ul class=\"footer-list\">\\n                <li><a href=\"https://shop.pts.org.tw/\">公視商城</a></li>\\n                <li><a href=\"https://friends.pts.org.tw/index.php\">贊助公視</a></li>\\n                <li><a href=\"https://friends.pts.org.tw/business.php\">企業贊助</a></li>\\n            </ul>\\n          </div>\\n          <div class=\"footer-last\">\\n            <!--電子報-->\\n            <label class=\"e-newsletter\"><label class=\"footer-nav-title\">訂閱 / 取消電子報</label><input id=\"e-newsletter\" placeholder=\"請填寫 e-mail\" type=\"text\" onkeydown=\"if(event.keyCode==13) takeSubscribe();\" /><button type=\"button\" onclick=\"takeSubscribe();\">送出</button></label>\\n            <!--電子報 end-->\\n            <ul class=\"social-icons\">\\n              <li><a href=\"http://goo.gl/eT9bhJ\"><img src=\"images/facebook_icon.jpg\"></a></li>\\n              <li><a href=\"http://goo.gl/bjgG30\"><img src=\"images/youtube_icon.jpg\"></a></li>\\n              <li><a href=\"https://www.pts.org.tw/pts_telegram/\"><img src=\"images/telegram_icon.png\"></a></li>\\n              <div class=\"clearer\"></div>\\n              <div class=\"company-info\">\\n                <div>\\n                  財團法人公共電視文化事業基金會\\n                </div>\\n                <div>\\n                  114台北市內湖區康寧路三段75巷50號\\n                </div>\\n                <div>\\n                  客服專線: 02-26332000\\n                </div>\\n              </div>\\n            </ul>\\n          </div>\\n        </div>\\n        <div class=\"copyright\">\\n          Public Television Service Foundation. All Rights Reserved.\\n        </div>\\n        <div class=\"clearer\"></div>\\n      </div>\\n    </div>\\n  </footer>\\n \\n\\n  <script type=\"text/javascript\" src=\"https://news.pts.org.tw/_js/jquery-1.11.3.min.js\"></script>\\n  <script type=\"text/javascript\" src=\"https://news.pts.org.tw/_js/slick-1.6.0/slick.min.js\"></script>\\n  <script type=\"text/javascript\" src=\"https://news.pts.org.tw/_js/pushy-master/js/pushy.min.js\"></script>\\n  <script type=\"text/javascript\" src=\"https://news.pts.org.tw/_js/jQuery-imagefill/imagesloaded.pkgd.min.js\"></script>\\n  <script type=\"text/javascript\" src=\"https://news.pts.org.tw/_js/jQuery-imagefill/jquery-imagefill.js\"></script>\\n  <script type=\"text/javascript\" src=\"https://news.pts.org.tw/_js/OwlCarousel2-master/owl.carousel.min.js\"></script>\\n  <script type=\"text/javascript\" src=\"https://news.pts.org.tw/_js/bootstrap.min.js\"></script>\\n  <script async src=\"//news.pts.org.tw/vender/clocks.js\"></script>\\n  <script type=\"text/javascript\" src=\"https://news.pts.org.tw/_js/jquery-ui.min.js\"></script>\\n  <script type=\"text/javascript\">\\n  $(document).ready(function() {\\n    //fill\\n    $(\\'.box-list .fill,.home .news-list .img-fill\\').imagefill({\\n      throttle: 1000 / 60,\\n    });    \\n\\n    //header\\n    $(function() {\\n      var pgurl = window.location.href.substr(window.location.href\\n        .lastIndexOf(\"/\") + 1);\\n      $(\".dropdown-menu li a\").each(function() {\\n        if ($(this).attr(\"href\") == pgurl || $(this).attr(\"href\") == \\'\\') {\\n          $(this).parents(\\'li\\').addClass(\"active\");\\n\\n        }\\n\\n      });\\n\\n    });\\n    //header\\n    $(function() {\\n      var pgurl = window.location.href.substr(window.location.href\\n        .lastIndexOf(\"/\") + 1);\\n      $(\".submenu-list li a\").each(function() {\\n        if ($(this).attr(\"href\") == pgurl || $(this).attr(\"href\") == \\'\\') {\\n          $(this).parents(\\'li\\').addClass(\"active\");\\n\\n        }\\n\\n      });\\n\\n    });\\n\\n\\n    //scrolltop \\n    $(\\'footer #scrolltop\\').click(function() {\\n      $(\\'body,hyml\\').animate({\\n        scrollTop: \\'0\\'\\n      }, 500);\\n    });    \\n  });\\n  </script>\\n  <!--Custom-->\\n  <script async src=\"https://static.addtoany.com/menu/page.js\"></script>\\n\\n</body>\\n</html>\\n'"
            ]
          },
          "metadata": {
            "tags": []
          },
          "execution_count": 9
        }
      ]
    },
    {
      "cell_type": "code",
      "metadata": {
        "id": "qA-sbUfQRf6L",
        "colab_type": "code",
        "colab": {
          "base_uri": "https://localhost:8080/",
          "height": 34
        },
        "outputId": "0f20e682-b98f-41ec-f053-5e42f7adeca2"
      },
      "source": [
        "type(res.text)"
      ],
      "execution_count": 10,
      "outputs": [
        {
          "output_type": "execute_result",
          "data": {
            "text/plain": [
              "str"
            ]
          },
          "metadata": {
            "tags": []
          },
          "execution_count": 10
        }
      ]
    },
    {
      "cell_type": "markdown",
      "metadata": {
        "id": "CWtG3_fA_b16",
        "colab_type": "text"
      },
      "source": [
        "###解析網頁原始碼 - 利用tag來定位目標資料\n"
      ]
    },
    {
      "cell_type": "code",
      "metadata": {
        "id": "mWavBrUcST6z",
        "colab_type": "code",
        "colab": {}
      },
      "source": [
        "from bs4 import BeautifulSoup"
      ],
      "execution_count": 13,
      "outputs": []
    },
    {
      "cell_type": "code",
      "metadata": {
        "id": "JPW4p537TLWb",
        "colab_type": "code",
        "colab": {}
      },
      "source": [
        "soup = BeautifulSoup(res.text) # html parser"
      ],
      "execution_count": 14,
      "outputs": []
    },
    {
      "cell_type": "code",
      "metadata": {
        "id": "ea-AG-hTTSzq",
        "colab_type": "code",
        "colab": {
          "base_uri": "https://localhost:8080/",
          "height": 34
        },
        "outputId": "c4b2a511-00c9-423f-be90-08a29d2e23e1"
      },
      "source": [
        "soup.find(\"h1\")"
      ],
      "execution_count": 15,
      "outputs": [
        {
          "output_type": "execute_result",
          "data": {
            "text/plain": [
              "<h1 class=\"article-title\" style=\"font-size: 36px\">指考第2天3大主科登場 近4.3萬考生上陣</h1>"
            ]
          },
          "metadata": {
            "tags": []
          },
          "execution_count": 15
        }
      ]
    },
    {
      "cell_type": "code",
      "metadata": {
        "id": "dME_8U5XT5Fl",
        "colab_type": "code",
        "colab": {
          "base_uri": "https://localhost:8080/",
          "height": 34
        },
        "outputId": "9415dba2-d552-4d83-afc4-2b9ea4990d89"
      },
      "source": [
        "soup.find(\"h2\")"
      ],
      "execution_count": 16,
      "outputs": [
        {
          "output_type": "execute_result",
          "data": {
            "text/plain": [
              "<h2>2020年7月4日</h2>"
            ]
          },
          "metadata": {
            "tags": []
          },
          "execution_count": 16
        }
      ]
    },
    {
      "cell_type": "code",
      "metadata": {
        "id": "xAwmgfGkTYJj",
        "colab_type": "code",
        "colab": {
          "base_uri": "https://localhost:8080/",
          "height": 34
        },
        "outputId": "ceb76d62-ae1f-4d48-f1dc-27fda0b40d3c"
      },
      "source": [
        "soup.find(\"div\")"
      ],
      "execution_count": 17,
      "outputs": [
        {
          "output_type": "execute_result",
          "data": {
            "text/plain": [
              "<div id=\"fb-root\"></div>"
            ]
          },
          "metadata": {
            "tags": []
          },
          "execution_count": 17
        }
      ]
    },
    {
      "cell_type": "code",
      "metadata": {
        "id": "6z9eVXRIC2qa",
        "colab_type": "code",
        "colab": {
          "base_uri": "https://localhost:8080/",
          "height": 258
        },
        "outputId": "b305ea84-8b43-43b3-9079-1664f0dab456"
      },
      "source": [
        "soup.find(\"div\", {\"class\": \"article_content\"})"
      ],
      "execution_count": 18,
      "outputs": [
        {
          "output_type": "execute_result",
          "data": {
            "text/plain": [
              "<div class=\"article_content\">\n",
              "                  今天是大學指考第二天，國英數三大主科登場，4.3萬名考生一起上陣。數學乙觀念題居多，沒太多計算，但對跨考的自然組同學較有優勢；國文科，老師評析出的相當精彩多元，應該是近三年最難；而英文科考試時間80分鐘，文字量大，又要寫作文，有考生反映寫得很趕。<br/><br/>\n",
              "大學指考第二天，自然組、社會組近4.3萬名考生齊上陣，要戴口罩、要確認身分、也要量體溫，一早考場幾度出現人流。<br/><br/>\n",
              "第一堂數學乙，有遊戲考機率、畢旅規畫看排列組合、還有傳染病考指數與對數，強調概念運用，計算量不大。高中老師評析，跨考的自然組考生較有優勢。<br/><br/>\n",
              "「概念有到的話，其實解題應該是沒什麼問題。」考生說道。<br/><br/>\n",
              "結合時事與生活應用的素養題是趨勢，今年國文更明顯，用朱熹分析疫疾文章，呼應今年疫情，還有老人照護時事，哲學、翻譯跨領域的素材，強調思辯，高中老師和補教界大讚出的精彩，卻也認為應是近三年最難。<br/><br/>\n",
              "考生認為，「很多字，蠻痛苦的，寫到中間的時候比較痛苦。」「國文好複雜哦，怎麼那麼長，（敍述都太長）就很煩躁啊。」<br/><br/>\n",
              "補教國文老師楊墨表示，「我們建議以後的學生，先看選項，然後選項的問答懂了以後，再去看看文章內容做判讀工作，會比較好一點。」<br/><br/>\n",
              "英文科同樣取材多元，美國教改、紐西蘭原住民，文字量大，加上作文要討論校園安全，好幾位考生反映，80分鐘考試時間不太夠，高中老師認為成績雙峰恐更明顯。<br/><br/>\n",
              "「有一點點寫不完，因為就是加了作文，然後跟學測不一樣，因為它變成80分鐘，所以有點趕。」「閱讀測驗就只有一題字比較少，其他都很多。對啊，就看得很痛苦。」考生說。<br/><br/>\n",
              "指考第二天，沒傳出重大違規。有三名考生因多次量體溫超標，被移往防疫試場，兩天下來累計啟用五間防疫試場。大考中心表示，就算這些考生指考第三天體溫正常，還是得在防疫試場考試。<br/><br/><br/>\n",
              " \n",
              "                      </div>"
            ]
          },
          "metadata": {
            "tags": []
          },
          "execution_count": 18
        }
      ]
    },
    {
      "cell_type": "markdown",
      "metadata": {
        "id": "KUMuDT60Dnz5",
        "colab_type": "text"
      },
      "source": [
        "\n",
        "**補充說明：什麼是 tag？**\n",
        "```\n",
        "<h1 class=\"article-title\" style=\"font-size: 36px\">指考第2天3大主科登場 近4.3萬考生上陣</h1>\n",
        "```\n",
        "平時在網頁中看到的內容，實際上在原始碼中都是被一個個的 tag 包住，就像上面所示的這個 h1 tag。<br>\n",
        "\\<h1 class=\"article-title\" style=\"font-size: 36px\"\\> 就是 tag 的開頭，\\</h1\\> 則是結尾。<br>\n",
        "在原始碼內的 tag 都像這樣成對的存在，而資料就被包在 tag 的開頭與結尾之間。在茫茫網頁原始碼中，這些 tag 就像是一個個錨定點，讓我們能夠快速的爬取出有興趣的資料。\n"
      ]
    },
    {
      "cell_type": "markdown",
      "metadata": {
        "id": "pvAhRXcDsHvx",
        "colab_type": "text"
      },
      "source": [
        "### 將 code整理成連貫的邏輯"
      ]
    },
    {
      "cell_type": "code",
      "metadata": {
        "id": "bAe9RchxsGe-",
        "colab_type": "code",
        "colab": {}
      },
      "source": [
        "import requests\n",
        "from bs4 import BeautifulSoup\n",
        "\n",
        "url = \"https://news.pts.org.tw/article/485678\"\n",
        "res = requests.get(url)\n",
        "soup = BeautifulSoup(res.text)\n",
        "print(soup.find(\"h1\").text)\n",
        "print(soup.find(\"h2\").text)\n",
        "print(soup.find(\"div\", {\"class\": \"article_content\"}).text.strip())"
      ],
      "execution_count": null,
      "outputs": []
    },
    {
      "cell_type": "markdown",
      "metadata": {
        "id": "Io9qyaNsAMOT",
        "colab_type": "text"
      },
      "source": [
        "###dictionary - 不同應用情境的資料容器"
      ]
    },
    {
      "cell_type": "code",
      "metadata": {
        "id": "CRlSP2FJAnMP",
        "colab_type": "code",
        "colab": {}
      },
      "source": [
        "attack = {\"皮卡丘\": 53, \"鯉魚王\": 0, \"可達鴨\": 10, \"噴火龍\": 85, \"超夢\": 99, \"小拉達\": 20}"
      ],
      "execution_count": null,
      "outputs": []
    },
    {
      "cell_type": "code",
      "metadata": {
        "id": "CSI9qWqhAwC_",
        "colab_type": "code",
        "colab": {}
      },
      "source": [
        "attack[\"超夢\"]"
      ],
      "execution_count": null,
      "outputs": []
    },
    {
      "cell_type": "markdown",
      "metadata": {
        "id": "HQpxR4nVCADE",
        "colab_type": "text"
      },
      "source": [
        "###取出特定值的比較"
      ]
    },
    {
      "cell_type": "code",
      "metadata": {
        "id": "QDEK8PXkCLgZ",
        "colab_type": "code",
        "colab": {}
      },
      "source": [
        "# list\n",
        "team = [\"噴火龍\", \"路奇亞\", \"可達鴨\"]\n",
        "team[0]"
      ],
      "execution_count": null,
      "outputs": []
    },
    {
      "cell_type": "code",
      "metadata": {
        "id": "GBokB8KSCW5g",
        "colab_type": "code",
        "colab": {}
      },
      "source": [
        "# dict\n",
        "attack = {\"皮卡丘\": 53, \"鯉魚王\": 0, \"可達鴨\": 10, \"噴火龍\": 85, \"超夢\": 99, \"小拉達\": 20}\n",
        "attack[\"皮卡丘\"]"
      ],
      "execution_count": null,
      "outputs": []
    },
    {
      "cell_type": "code",
      "metadata": {
        "id": "nGa9-cV_Cczh",
        "colab_type": "code",
        "colab": {}
      },
      "source": [
        "# str\n",
        "poke = \"小拉達\"\n",
        "poke[0]"
      ],
      "execution_count": null,
      "outputs": []
    },
    {
      "cell_type": "markdown",
      "metadata": {
        "id": "nfiG2yf4sauU",
        "colab_type": "text"
      },
      "source": [
        "###抓取多篇文章 - 觀察url網址如何隨請求變動"
      ]
    },
    {
      "cell_type": "code",
      "metadata": {
        "id": "-jja6ZOTT85w",
        "colab_type": "code",
        "colab": {}
      },
      "source": [
        "urls = [\"https://news.pts.org.tw/article/485678\", \"https://news.pts.org.tw/article/485675\", \"https://news.pts.org.tw/article/485673\"]"
      ],
      "execution_count": null,
      "outputs": []
    },
    {
      "cell_type": "code",
      "metadata": {
        "id": "XfkgVc9vUQsa",
        "colab_type": "code",
        "colab": {}
      },
      "source": [
        "for url in urls:\n",
        "  res = requests.get(url)\n",
        "  soup = BeautifulSoup(res.text)\n",
        "  print(soup.find(\"title\").text)\n",
        "  print(soup.find(\"h2\").text)\n",
        "  print(soup.find(\"div\", {\"class\": \"article_content\"}).text.strip())"
      ],
      "execution_count": null,
      "outputs": []
    },
    {
      "cell_type": "markdown",
      "metadata": {
        "id": "8HofyN48u_lE",
        "colab_type": "text"
      },
      "source": [
        "### 股市表格資料"
      ]
    },
    {
      "cell_type": "code",
      "metadata": {
        "id": "6QmhCBw4XdVK",
        "colab_type": "code",
        "colab": {}
      },
      "source": [
        "url = \"https://goodinfo.tw/StockInfo/StockList.asp?MARKET_CAT=%E6%99%BA%E6%85%A7%E9%81%B8%E8%82%A1&INDUSTRY_CAT=%E4%B8%89%E5%A4%A7%E6%B3%95%E4%BA%BA%E9%80%A3%E8%B2%B7+%E2%80%93+%E6%97%A5%40%40%E4%B8%89%E5%A4%A7%E6%B3%95%E4%BA%BA%E9%80%A3%E7%BA%8C%E8%B2%B7%E8%B6%85%40%40%E4%B8%89%E5%A4%A7%E6%B3%95%E4%BA%BA%E9%80%A3%E7%BA%8C%E8%B2%B7%E8%B6%85+%E2%80%93+%E6%97%A5&SHEET=%E6%B3%95%E4%BA%BA%E8%B2%B7%E8%B3%A3&SHEET2=%E6%B3%95%E4%BA%BA%E9%80%A3%E8%B2%B7%E9%80%A3%E8%B3%A3%E7%B5%B1%E8%A8%88%28%E6%97%A5%29\""
      ],
      "execution_count": 19,
      "outputs": []
    },
    {
      "cell_type": "code",
      "metadata": {
        "id": "sEUrjMGXXiiN",
        "colab_type": "code",
        "colab": {}
      },
      "source": [
        "res = requests.get(url)"
      ],
      "execution_count": 20,
      "outputs": []
    },
    {
      "cell_type": "code",
      "metadata": {
        "id": "v8tO6tizvMoL",
        "colab_type": "code",
        "colab": {}
      },
      "source": [
        "soup = BeautifulSoup(res.text)"
      ],
      "execution_count": null,
      "outputs": []
    },
    {
      "cell_type": "code",
      "metadata": {
        "id": "H1hGeS9gvOEI",
        "colab_type": "code",
        "colab": {}
      },
      "source": [
        "soup.find(\"title\").text"
      ],
      "execution_count": null,
      "outputs": []
    },
    {
      "cell_type": "markdown",
      "metadata": {
        "id": "C9PJOtVqyjbw",
        "colab_type": "text"
      },
      "source": [
        "### 處理防爬機制 - 在請求中加入 User-Agent"
      ]
    },
    {
      "cell_type": "code",
      "metadata": {
        "id": "WsJuxuZgXnee",
        "colab_type": "code",
        "colab": {}
      },
      "source": [
        "header = {\"User-Agent\": \"Mozilla/5.0 (Windows NT 10.0; Win64; x64) AppleWebKit/537.36 (KHTML, like Gecko) Chrome/83.0.4103.116 Safari/537.36\"}"
      ],
      "execution_count": 21,
      "outputs": []
    },
    {
      "cell_type": "code",
      "metadata": {
        "id": "tetRXy08YDzL",
        "colab_type": "code",
        "colab": {}
      },
      "source": [
        "res = requests.get(url, headers=header)"
      ],
      "execution_count": 22,
      "outputs": []
    },
    {
      "cell_type": "code",
      "metadata": {
        "id": "wwWK1zecXvdk",
        "colab_type": "code",
        "colab": {}
      },
      "source": [
        "soup = BeautifulSoup(res.text)"
      ],
      "execution_count": 23,
      "outputs": []
    },
    {
      "cell_type": "code",
      "metadata": {
        "id": "pYJ_5oXwIJsR",
        "colab_type": "code",
        "colab": {
          "base_uri": "https://localhost:8080/",
          "height": 35
        },
        "outputId": "74afeec8-8713-4886-f9bd-a8b25d159213"
      },
      "source": [
        "soup.find(\"title\").text"
      ],
      "execution_count": 24,
      "outputs": [
        {
          "output_type": "execute_result",
          "data": {
            "application/vnd.google.colaboratory.intrinsic+json": {
              "type": "string"
            },
            "text/plain": [
              "'ä¸\\x8aå¸\\x82æ«\\x83è\\x82¡ç¥¨ä¸\\x80è¦½ - æ\\x99ºæ\\x85§é\\x81¸è\\x82¡ - ä¸\\x89å¤§æ³\\x95äººé\\x80£è²· â\\x80\\x93 æ\\x97¥ - Goodinfo!å\\x8f°ç\\x81£è\\x82¡å¸\\x82è³\\x87è¨\\x8aç¶²'"
            ]
          },
          "metadata": {
            "tags": []
          },
          "execution_count": 24
        }
      ]
    },
    {
      "cell_type": "markdown",
      "metadata": {
        "id": "PWFk2FtSTfxS",
        "colab_type": "text"
      },
      "source": [
        "####手動設定 response 的編碼"
      ]
    },
    {
      "cell_type": "code",
      "metadata": {
        "id": "706vE_qjIGYi",
        "colab_type": "code",
        "colab": {}
      },
      "source": [
        "res.encoding = \"utf-8\""
      ],
      "execution_count": null,
      "outputs": []
    },
    {
      "cell_type": "code",
      "metadata": {
        "id": "7xFmuFEfIHNK",
        "colab_type": "code",
        "colab": {}
      },
      "source": [
        "soup = BeautifulSoup(res.text)"
      ],
      "execution_count": null,
      "outputs": []
    },
    {
      "cell_type": "code",
      "metadata": {
        "id": "d_QarFmBY1jm",
        "colab_type": "code",
        "colab": {}
      },
      "source": [
        "soup.find(\"title\").text"
      ],
      "execution_count": null,
      "outputs": []
    },
    {
      "cell_type": "markdown",
      "metadata": {
        "id": "GB3PGoXSV731",
        "colab_type": "text"
      },
      "source": [
        "**補充說明：**\n",
        "使用 user-agent 資訊是最基礎突破防爬機制的方式，實際上各個網站使用的防爬機制有非常多種，難度差異也很大。所以要能隨心所欲爬取各種網站，需要更進階的學習以及經驗累積，未來大家有這樣的需求的話，我也可以開設對應的課程哦！"
      ]
    },
    {
      "cell_type": "markdown",
      "metadata": {
        "id": "rr-XK335JXj3",
        "colab_type": "text"
      },
      "source": [
        "### 專門處理表格資料的神套件 - pandas"
      ]
    },
    {
      "cell_type": "code",
      "metadata": {
        "id": "cZ2ao8jbj85m",
        "colab_type": "code",
        "colab": {}
      },
      "source": [
        "import pandas as pd"
      ],
      "execution_count": null,
      "outputs": []
    },
    {
      "cell_type": "code",
      "metadata": {
        "id": "U4zHXjDNlKcs",
        "colab_type": "code",
        "colab": {}
      },
      "source": [
        "df = pd.read_html(res.text, header=0, attrs={\"id\": \"tblStockList\"})[0]"
      ],
      "execution_count": null,
      "outputs": []
    },
    {
      "cell_type": "code",
      "metadata": {
        "id": "mNurwHPhrzRO",
        "colab_type": "code",
        "colab": {}
      },
      "source": [
        "df.drop_duplicates(keep=False, inplace=True)"
      ],
      "execution_count": null,
      "outputs": []
    },
    {
      "cell_type": "code",
      "metadata": {
        "id": "ZB9BIvPIbQKn",
        "colab_type": "code",
        "colab": {}
      },
      "source": [
        "df"
      ],
      "execution_count": null,
      "outputs": []
    },
    {
      "cell_type": "markdown",
      "metadata": {
        "id": "xxIyEhxozPDr",
        "colab_type": "text"
      },
      "source": [
        "### 依照條件篩選，打造選股策略"
      ]
    },
    {
      "cell_type": "code",
      "metadata": {
        "id": "0JFd-G3jzUFi",
        "colab_type": "code",
        "colab": {}
      },
      "source": [
        "df[\"外資連續買賣日數\"] = pd.to_numeric(df[\"外資連續買賣日數\"])\n",
        "df[\"外資買賣佔成交(%)\"] = pd.to_numeric(df[\"外資買賣佔成交(%)\"]) # 將欄位資料化為數字型態\n",
        "df[df[\"外資連續買賣日數\"] >= 10].sort_values(by=\"外資買賣佔成交(%)\", ascending=False)"
      ],
      "execution_count": null,
      "outputs": []
    }
  ]
}